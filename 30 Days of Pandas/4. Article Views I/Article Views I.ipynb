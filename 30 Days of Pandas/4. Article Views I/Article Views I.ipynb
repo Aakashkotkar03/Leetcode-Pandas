{
 "cells": [
  {
   "cell_type": "code",
   "execution_count": 3,
   "id": "73df90aa",
   "metadata": {},
   "outputs": [
    {
     "name": "stdout",
     "output_type": "stream",
     "text": [
      "   id\n",
      "5   4\n",
      "2   7\n"
     ]
    }
   ],
   "source": [
    "import pandas as pd\n",
    "\n",
    "def article_views(views: pd.DataFrame) -> pd.DataFrame:\n",
    "    df = views.loc[(views[\"author_id\"]==views[\"viewer_id\"]),['viewer_id']].drop_duplicates().sort_values(by='viewer_id')\n",
    "    df = df[['viewer_id']].rename(columns={'viewer_id':'id'})\n",
    "    return df\n",
    "\n",
    "# Example input\n",
    "views = pd.DataFrame({\n",
    "    'article_id': [1, 1, 2, 2, 4, 3, 3],\n",
    "    'author_id': [3, 3, 7, 7, 7, 4, 4],\n",
    "    'viewer_id': [5, 6, 7, 6, 1, 4, 4],\n",
    "    'view_date': ['2019-08-01', '2019-08-02', '2019-08-01', '2019-08-02', '2019-07-22', '2019-07-21', '2019-07-21']\n",
    "})\n",
    "\n",
    "# Call the function\n",
    "result = article_views(views)\n",
    "\n",
    "# Print the result\n",
    "print(result)"
   ]
  }
 ],
 "metadata": {
  "kernelspec": {
   "display_name": "Python 3 (ipykernel)",
   "language": "python",
   "name": "python3"
  },
  "language_info": {
   "codemirror_mode": {
    "name": "ipython",
    "version": 3
   },
   "file_extension": ".py",
   "mimetype": "text/x-python",
   "name": "python",
   "nbconvert_exporter": "python",
   "pygments_lexer": "ipython3",
   "version": "3.9.13"
  }
 },
 "nbformat": 4,
 "nbformat_minor": 5
}
