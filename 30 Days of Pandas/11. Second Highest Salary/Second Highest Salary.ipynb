{
 "cells": [
  {
   "cell_type": "code",
   "execution_count": 1,
   "id": "9f210ce8",
   "metadata": {},
   "outputs": [],
   "source": [
    "import pandas as pd\n",
    "\n",
    "def second_highest_salary(employee: pd.DataFrame) -> pd.DataFrame:\n",
    "    employee['rank'] = employee['salary'].rank(method='dense', ascending=False)\n",
    "    nthhighest = employee[employee['rank'] == 2]\n",
    "    colu_name = 'SecondHighestSalary'\n",
    "    return pd.DataFrame({colu_name: [nthhighest['salary'].iloc[0] if len(nthhighest) > 0 else None]})"
   ]
  },
  {
   "cell_type": "code",
   "execution_count": null,
   "id": "0b4b03dc",
   "metadata": {},
   "outputs": [],
   "source": []
  }
 ],
 "metadata": {
  "kernelspec": {
   "display_name": "Python 3 (ipykernel)",
   "language": "python",
   "name": "python3"
  },
  "language_info": {
   "codemirror_mode": {
    "name": "ipython",
    "version": 3
   },
   "file_extension": ".py",
   "mimetype": "text/x-python",
   "name": "python",
   "nbconvert_exporter": "python",
   "pygments_lexer": "ipython3",
   "version": "3.9.13"
  }
 },
 "nbformat": 4,
 "nbformat_minor": 5
}
