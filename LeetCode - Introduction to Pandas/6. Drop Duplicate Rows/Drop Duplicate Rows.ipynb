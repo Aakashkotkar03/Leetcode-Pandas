{
 "cells": [
  {
   "cell_type": "code",
   "execution_count": 1,
   "id": "7cc37b13",
   "metadata": {},
   "outputs": [
    {
     "name": "stdout",
     "output_type": "stream",
     "text": [
      "Original DataFrame:\n",
      "              email\n",
      "0  john@example.com\n",
      "1  jane@example.com\n",
      "2  john@example.com\n",
      "\n",
      "DataFrame after dropping duplicates:\n",
      "              email\n",
      "0  john@example.com\n",
      "1  jane@example.com\n"
     ]
    }
   ],
   "source": [
    "import pandas as pd\n",
    "\n",
    "def dropDuplicateEmails(customers: pd.DataFrame) -> pd.DataFrame:\n",
    "    customers = customers.drop_duplicates(subset=['email'], keep='first')\n",
    "    return customers\n",
    "\n",
    "# Example Usage\n",
    "data = {'email': ['john@example.com', 'jane@example.com', 'john@example.com']}\n",
    "df = pd.DataFrame(data)\n",
    "print(\"Original DataFrame:\")\n",
    "print(df)\n",
    "\n",
    "df_no_duplicates = dropDuplicateEmails(df)\n",
    "print(\"\\nDataFrame after dropping duplicates:\")\n",
    "print(df_no_duplicates)\n"
   ]
  }
 ],
 "metadata": {
  "kernelspec": {
   "display_name": "Python 3 (ipykernel)",
   "language": "python",
   "name": "python3"
  },
  "language_info": {
   "codemirror_mode": {
    "name": "ipython",
    "version": 3
   },
   "file_extension": ".py",
   "mimetype": "text/x-python",
   "name": "python",
   "nbconvert_exporter": "python",
   "pygments_lexer": "ipython3",
   "version": "3.9.13"
  }
 },
 "nbformat": 4,
 "nbformat_minor": 5
}
