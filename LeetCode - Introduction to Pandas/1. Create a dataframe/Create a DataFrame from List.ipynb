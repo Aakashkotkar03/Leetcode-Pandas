{
 "cells": [
  {
   "cell_type": "code",
   "execution_count": 1,
   "id": "e0554a0a",
   "metadata": {},
   "outputs": [],
   "source": [
    "import pandas as pd"
   ]
  },
  {
   "cell_type": "code",
   "execution_count": 6,
   "id": "a7af20a7",
   "metadata": {},
   "outputs": [],
   "source": [
    "def createDataframe(student_data) -> pd.DataFrame:\n",
    "    return pd.DataFrame(student_data, columns=['student_id','age'])\n",
    "\n",
    "# Example student data\n",
    "student_data = [[1, 20], [2, 22], [3, 21]]\n"
   ]
  },
  {
   "cell_type": "code",
   "execution_count": 7,
   "id": "632da077",
   "metadata": {},
   "outputs": [
    {
     "name": "stdout",
     "output_type": "stream",
     "text": [
      "   student_id  age\n",
      "0           1   20\n",
      "1           2   22\n",
      "2           3   21\n"
     ]
    }
   ],
   "source": [
    "\n",
    "# Create a DataFrame from student data\n",
    "df = createDataframe(student_data)\n",
    "\n",
    "# Display the DataFrame\n",
    "print(df)"
   ]
  }
 ],
 "metadata": {
  "kernelspec": {
   "display_name": "Python 3 (ipykernel)",
   "language": "python",
   "name": "python3"
  },
  "language_info": {
   "codemirror_mode": {
    "name": "ipython",
    "version": 3
   },
   "file_extension": ".py",
   "mimetype": "text/x-python",
   "name": "python",
   "nbconvert_exporter": "python",
   "pygments_lexer": "ipython3",
   "version": "3.9.13"
  }
 },
 "nbformat": 4,
 "nbformat_minor": 5
}
