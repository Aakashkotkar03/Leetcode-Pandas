{
 "cells": [
  {
   "cell_type": "code",
   "execution_count": 1,
   "id": "27936e7d",
   "metadata": {},
   "outputs": [
    {
     "name": "stdout",
     "output_type": "stream",
     "text": [
      "       product    quarter  sales\n",
      "0     Umbrella  quarter_1    417\n",
      "1  SleepingBag  quarter_1    800\n",
      "2     Umbrella  quarter_2    224\n",
      "3  SleepingBag  quarter_2    936\n",
      "4     Umbrella  quarter_3    379\n",
      "5  SleepingBag  quarter_3     93\n",
      "6     Umbrella  quarter_4    611\n",
      "7  SleepingBag  quarter_4    875\n"
     ]
    }
   ],
   "source": [
    "import pandas as pd\n",
    "\n",
    "def findHeavyAnimals(animals: pd.DataFrame) -> pd.DataFrame:\n",
    "    output = animals.loc[animals['weight']>100].sort_values(by='weight', ascending=False)[['name']]\n",
    "    return output"
   ]
  }
 ],
 "metadata": {
  "kernelspec": {
   "display_name": "Python 3 (ipykernel)",
   "language": "python",
   "name": "python3"
  },
  "language_info": {
   "codemirror_mode": {
    "name": "ipython",
    "version": 3
   },
   "file_extension": ".py",
   "mimetype": "text/x-python",
   "name": "python",
   "nbconvert_exporter": "python",
   "pygments_lexer": "ipython3",
   "version": "3.9.13"
  }
 },
 "nbformat": 4,
 "nbformat_minor": 5
}
